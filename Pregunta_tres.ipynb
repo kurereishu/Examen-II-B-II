{
 "cells": [
  {
   "cell_type": "markdown",
   "id": "5d4ca5f8",
   "metadata": {},
   "source": [
    "# Resolución Ejercicio Tres."
   ]
  },
  {
   "cell_type": "markdown",
   "id": "f6fdb966",
   "metadata": {},
   "source": [
    "Usando los métodos estudiados, determine todas las raíces de la ecuación.<br>\n",
    "$0x^6+x^5+5.5*x^4+4.5*x^3=9.5*x^2+15.5x+6$"
   ]
  },
  {
   "cell_type": "code",
   "execution_count": 16,
   "id": "2022ec13",
   "metadata": {},
   "outputs": [],
   "source": [
    "import numpy as np\n",
    "import matplotlib.pyplot as plt\n",
    "from scipy import optimize\n",
    "import numpy as np"
   ]
  },
  {
   "cell_type": "code",
   "execution_count": 26,
   "id": "2fd8d32d",
   "metadata": {},
   "outputs": [
    {
     "name": "stdout",
     "output_type": "stream",
     "text": [
      "x1 = -3.999999999999997\n",
      "x2 = -0.9999959985602783\n",
      "x3 = 1.5000000000000004\n",
      "x4 = NaN\n",
      "x5 = NaN\n",
      "x6 = NaN\n"
     ]
    }
   ],
   "source": [
    "## Usando los métodos estudiados, determine todas las raíces de la ecuación.<br>\n",
    "## x^5+5.5*x^4+4.5*x^3=9.5*x^2+15.5x+6\n",
    "\n",
    "coeficientes = [1, 5.5, 4.5, -9.5, -15.5, -6]\n",
    "raices = np.roots(coeficientes)\n",
    "raices_reales = [r.real for r in raices if r.imag == 0]\n",
    "raices_reales.sort()\n",
    "\n",
    "for i in range(6):\n",
    "    if i < len(raices_reales):\n",
    "        print(f\"x{i+1} = {raices_reales[i]}\")\n",
    "    else:\n",
    "        print(f\"x{i+1} = NaN\")\n",
    "        \n"
   ]
  }
 ],
 "metadata": {
  "kernelspec": {
   "display_name": "base",
   "language": "python",
   "name": "python3"
  },
  "language_info": {
   "codemirror_mode": {
    "name": "ipython",
    "version": 3
   },
   "file_extension": ".py",
   "mimetype": "text/x-python",
   "name": "python",
   "nbconvert_exporter": "python",
   "pygments_lexer": "ipython3",
   "version": "3.12.7"
  }
 },
 "nbformat": 4,
 "nbformat_minor": 5
}
